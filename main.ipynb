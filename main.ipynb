{
 "cells": [
  {
   "cell_type": "markdown",
   "metadata": {},
   "source": [
    "## European and American put option pricing w/ real data\n",
    "---"
   ]
  },
  {
   "cell_type": "markdown",
   "metadata": {},
   "source": [
    "* A. Du Preez (14936755)\n",
    "* K.M. Disselkamp (14928566)"
   ]
  },
  {
   "cell_type": "markdown",
   "metadata": {},
   "source": [
    "# Preface\n",
    "---"
   ]
  },
  {
   "cell_type": "markdown",
   "metadata": {},
   "source": [
    "We are considering the Endava stock and a put option on said stock. The option contract was entered on 26.01.2024, from now denoted $t = 0$, at strike price $K = 85.00$ USD and reaches maturity on 16.08.2024 (denoted $T$). The stock price at initialization was $S_0 = 74.09$ USD. There are 28 open interests in the option."
   ]
  },
  {
   "cell_type": "code",
   "execution_count": null,
   "metadata": {},
   "outputs": [],
   "source": [
    "#Imports\n",
    "#----------------------------------\n",
    "from binomialTree import *\n",
    "from parameter_estimations import *\n",
    "import matplotlib.pyplot as plt\n",
    "from implied_volatility import *"
   ]
  },
  {
   "cell_type": "code",
   "execution_count": null,
   "metadata": {},
   "outputs": [],
   "source": [
    "#Parameters\n",
    "#----------------------------------\n",
    "\n",
    "S_0 = 74.09 #Real stock price\n",
    "K = 85.00 #Real strike price\n",
    "\n",
    "weeks = 31 # weeks until expiry\n",
    "days = 5 # days in a regular trading week\n",
    "holidays = 5 # 19.02, 29.03, 27.05, 19.06, 04.07 (https://www.nyse.com/markets/hours-calendars)\n",
    "tradingdays = 252\n",
    "\n",
    "T = (weeks*days - holidays) / tradingdays\n",
    "\n",
    "R = 0.0522 # (https://home.treasury.gov/resource-center/data-chart-center/interest-rates/TextView?type=daily_treasury_bill_rates&field_tdr_date_value=2024)\n",
    "r = np.log(1 + R) #continuously compounded interest rate \n",
    "\n",
    "market_price = 14.70 #Market price of put option\n",
    "\n",
    "stock_prices = caluclate_stock_returns() #Stock returns\n",
    "vol = estimate_volatility(stock_prices) #Historical volatility\n",
    "sigma = np.sqrt(vol)\n"
   ]
  },
  {
   "cell_type": "markdown",
   "metadata": {},
   "source": [
    "## Question 2\n",
    "---"
   ]
  },
  {
   "cell_type": "code",
   "execution_count": null,
   "metadata": {},
   "outputs": [],
   "source": [
    "Ns = np.arange(1, 101)\n",
    "\n",
    "binom_ests = []\n",
    "bs_ests = []\n",
    "\n",
    "n_steps = (weeks*days) - holidays\n",
    "\n",
    "# loop through number of steps and estimate approximation error\n",
    "for N in Ns:\n",
    "    \n",
    "    # binomial tree\n",
    "    tree = build_tree(S_0, sigma, T, N)\n",
    "    value_EU_put = EuropeanPutOption(tree, T, r, K, sigma)\n",
    "    binom_ests.append(value_EU_put[0,0])\n",
    "\n",
    "    # black-scholes\n",
    "    value_EU_put_bs = BlackScholesPut(S_0, T, r, sigma, K, n_steps)\n",
    "    bs_ests.append(value_EU_put_bs)\n",
    "\n",
    "differences = np.abs(np.array(binom_ests) - np.array(bs_ests))\n"
   ]
  },
  {
   "cell_type": "code",
   "execution_count": null,
   "metadata": {},
   "outputs": [],
   "source": [
    "plt.figure(figsize=(6, 5))\n",
    "plt.plot(Ns, binom_ests, label='Binomial tree', linestyle='-', linewidth=1.8, color = \"b\")\n",
    "plt.plot(Ns, bs_ests, label='Black-Scholes', linestyle='-', linewidth=1.8, color = \"green\")\n",
    "plt.xlabel('$N$', fontsize=14, fontweight='bold')\n",
    "plt.ylabel('$f$', fontsize=14)\n",
    "plt.yticks(fontsize=12)\n",
    "plt.xticks(fontsize=12)\n",
    "plt.legend(fontsize=12)\n",
    "plt.show()"
   ]
  },
  {
   "cell_type": "markdown",
   "metadata": {},
   "source": [
    "## Question 3\n",
    "---"
   ]
  },
  {
   "cell_type": "markdown",
   "metadata": {},
   "source": [
    "* Calculate the value of an American put option based on a binomial tree with 3 layers"
   ]
  },
  {
   "cell_type": "code",
   "execution_count": null,
   "metadata": {},
   "outputs": [],
   "source": [
    "N = 500\n",
    "initTree = build_tree(S_0, sigma, T, N)\n",
    "AmericanOptionPrice = AmericanPutOption(initTree, T, r, K, sigma)\n",
    "print('An American put option under the given settings is valued at', AmericanOptionPrice[0,0])\n"
   ]
  },
  {
   "cell_type": "code",
   "execution_count": null,
   "metadata": {},
   "outputs": [],
   "source": [
    "threeTree = build_tree(S_0, sigma, T, 3)\n",
    "AmericanThreeTree = AmericanPutOption(threeTree, T, r, K, sigma)\n",
    "print(AmericanThreeTree)"
   ]
  },
  {
   "cell_type": "markdown",
   "metadata": {},
   "source": [
    "* Calculate the value of the European counterpart for 3 layers"
   ]
  },
  {
   "cell_type": "code",
   "execution_count": null,
   "metadata": {},
   "outputs": [],
   "source": [
    "EuropeanThreeTree = EuropeanPutOption(threeTree, T, r, K, sigma)\n",
    "print(EuropeanThreeTree)"
   ]
  },
  {
   "cell_type": "code",
   "execution_count": null,
   "metadata": {},
   "outputs": [],
   "source": [
    "print(AmericanThreeTree - EuropeanThreeTree)"
   ]
  },
  {
   "cell_type": "markdown",
   "metadata": {},
   "source": [
    "* Convergence of the American put option price"
   ]
  },
  {
   "cell_type": "code",
   "execution_count": null,
   "metadata": {},
   "outputs": [],
   "source": [
    "layers = np.arange(5, 500, 1.0)\n",
    "\n",
    "AmericanOption = []\n",
    "EarlyExercise = []\n",
    "for Nlayers in layers:\n",
    "    Tree = build_tree(S_0, sigma, T, int(Nlayers))\n",
    "    Price = AmericanPutOption(Tree, T, r, K, sigma)[0,0]\n",
    "    EU_price = EuropeanPutOption(Tree, T, r, K, sigma)[0,0]\n",
    "    AmericanOption.append(Price)\n",
    "    EarlyExercise.append(Price - EU_price)"
   ]
  },
  {
   "cell_type": "code",
   "execution_count": null,
   "metadata": {},
   "outputs": [],
   "source": [
    "print('For 500 layers the American option is valued at', AmericanOption[-1])\n",
    "print('The difference between the last and second to last layer is', AmericanOption[-2])\n",
    "print('For 500 layers the value of early exercise is', EarlyExercise[-1])\n",
    "print('The mean of all approximations is', np.mean(np.array(AmericanOption)))"
   ]
  },
  {
   "cell_type": "code",
   "execution_count": null,
   "metadata": {},
   "outputs": [],
   "source": [
    "plt.figure(dpi = 300, figsize = (8, 10))\n",
    "plt.subplot(211)\n",
    "plt.plot(layers, AmericanOption, linewidth = '0.8', color = 'purple', label = '$f_0^{US}$')\n",
    "plt.legend()\n",
    "plt.xlabel('Number of layers', fontsize=14)\n",
    "plt.ylabel('Option value', fontsize=14)\n",
    "plt.title('Convergence of the American put option price', fontsize=14)\n",
    "plt.yticks(fontsize=12)\n",
    "plt.xticks(fontsize=12)\n",
    "plt.subplot(212)\n",
    "plt.plot(layers, EarlyExercise, linewidth = '0.8', color = 'purple', label = '$f_0^{US} - f_0^{EU}$')\n",
    "plt.legend()\n",
    "plt.xlabel('Number of layers', fontsize=14)\n",
    "plt.ylabel('Value of early exercise', fontsize=14)\n",
    "plt.title('Value of the early exercise right', fontsize=14)\n",
    "plt.yticks(fontsize=12)\n",
    "plt.xticks(fontsize=12)\n",
    "plt.legend(fontsize=12)\n",
    "plt.show()\n",
    "plt.close()"
   ]
  },
  {
   "cell_type": "code",
   "execution_count": null,
   "metadata": {},
   "outputs": [],
   "source": [
    "layer = 150\n",
    "tolerance = 10**(-5)\n",
    "max_iters = 1000\n",
    "\n",
    "iters = 0\n",
    "tol = 100\n",
    "\n",
    "Tree_old = build_tree(S_0, sigma, T, layer-1)\n",
    "Price_old = AmericanPutOption(Tree_old, T, r, K, sigma)[0,0]\n",
    "\n",
    "while (tol > tolerance and iters < max_iters):\n",
    "    Tree_new = build_tree(S_0, sigma, T, layer)\n",
    "    Price_new = AmericanPutOption(Tree_new, T, r, K, sigma)[0,0]\n",
    "    \n",
    "    tol = abs(Price_new - Price_old)\n",
    "    iters = iters + 1\n",
    "    layer = layer + 1\n",
    "    \n",
    "    Price_old = Price_new\n",
    "    \n",
    "print(layer)"
   ]
  },
  {
   "cell_type": "markdown",
   "metadata": {},
   "source": [
    "* Effect of the interest rate $r$ on the value of early exercise"
   ]
  },
  {
   "cell_type": "code",
   "execution_count": null,
   "metadata": {},
   "outputs": [],
   "source": [
    "stockTree = build_tree(S_0, sigma, T, N)\n",
    "\n",
    "OptionPrice = []\n",
    "OptionPrice_EU = []\n",
    "ExerciseValue = []\n",
    "\n",
    "interest_variations = np.arange(0, 1.6, 0.05)\n",
    "for interest in interest_variations:\n",
    "    US_Price = AmericanPutOption(stockTree, T, interest, K, sigma)[0,0]\n",
    "    EU_Price = EuropeanPutOption(stockTree, T, interest, K, sigma)[0,0]\n",
    "    \n",
    "    \n",
    "    OptionPrice.append(US_Price)\n",
    "    OptionPrice_EU.append(EU_Price)\n",
    "    ExerciseValue.append(US_Price - EU_Price)"
   ]
  },
  {
   "cell_type": "code",
   "execution_count": null,
   "metadata": {},
   "outputs": [],
   "source": [
    "plt.figure(dpi = 300, figsize = (8, 10))\n",
    "plt.subplot(211)\n",
    "plt.plot(interest_variations, OptionPrice, linewidth = '0.8', color = 'purple', marker = 'o', label = '$f_0^{US}$')\n",
    "plt.plot(interest_variations, OptionPrice_EU, linewidth = '0.8', color = 'red', marker = 'o', label = '$f_0^{EU}$')\n",
    "plt.legend()\n",
    "plt.xlabel('Interest rate', fontsize=14)\n",
    "plt.ylabel('Option value', fontsize=14)\n",
    "plt.title('Put option price for different interest rates', fontsize=14)\n",
    "plt.yticks(fontsize=12)\n",
    "plt.xticks(fontsize=12)\n",
    "plt.subplot(212)\n",
    "plt.plot(interest_variations, ExerciseValue, linewidth = '0.8', color = 'purple', marker = 'o', label = '$f_0^{US} - f_0^{EU}$')\n",
    "plt.legend()\n",
    "plt.xlabel('Interest rate', fontsize=14)\n",
    "plt.ylabel('Value of early exercise', fontsize=14)\n",
    "plt.title('Value of the early exercise right', fontsize=14)\n",
    "plt.yticks(fontsize=12)\n",
    "plt.xticks(fontsize=12)\n",
    "plt.show()\n",
    "plt.close()"
   ]
  },
  {
   "cell_type": "markdown",
   "metadata": {},
   "source": [
    "## Question 4\n",
    "-----\n"
   ]
  },
  {
   "cell_type": "markdown",
   "metadata": {},
   "source": [
    "* Compute American option price with historical volatility"
   ]
  },
  {
   "cell_type": "code",
   "execution_count": null,
   "metadata": {},
   "outputs": [],
   "source": [
    "tree = build_tree(S_0, sigma, T, 500)\n",
    "price = AmericanPutOption(tree, T, r, K, sigma)[0,0]\n",
    "print(f\"Theoretical price of American option: {price}\")"
   ]
  },
  {
   "cell_type": "markdown",
   "metadata": {},
   "source": [
    "* Compute American option price with implied volatility"
   ]
  },
  {
   "cell_type": "code",
   "execution_count": null,
   "metadata": {},
   "outputs": [],
   "source": [
    "iterations = 100\n",
    "implied_volatility, theoretical_prices = compute_implied_volatility(tree, T, r, K, sigma, market_price,iterations)\n",
    "print(f\"Computed implied volatility: {implied_volatility}\")"
   ]
  },
  {
   "cell_type": "markdown",
   "metadata": {},
   "source": [
    "* Determine convergence of theoretical price to market price"
   ]
  },
  {
   "cell_type": "code",
   "execution_count": null,
   "metadata": {},
   "outputs": [],
   "source": [
    "plt.figure(figsize=(6, 5))\n",
    "plt.plot(np.arange(0,iterations), theoretical_prices, label = \"Theoretical price\" , color = \"b\")\n",
    "plt.axhline(market_price, linestyle = \"--\", label = \"Market price\", color = \"red\")\n",
    "plt.xlabel(\"Iterations\", fontsize=14)\n",
    "plt.ylabel(\"Prices\", fontsize=14)\n",
    "plt.yticks(fontsize=12)\n",
    "plt.xticks(fontsize=12)\n",
    "plt.legend()\n"
   ]
  },
  {
   "cell_type": "code",
   "execution_count": null,
   "metadata": {},
   "outputs": [],
   "source": [
    "#create_implied_volatility_curve()"
   ]
  }
 ],
 "metadata": {
  "kernelspec": {
   "display_name": "base",
   "language": "python",
   "name": "python3"
  },
  "language_info": {
   "codemirror_mode": {
    "name": "ipython",
    "version": 3
   },
   "file_extension": ".py",
   "mimetype": "text/x-python",
   "name": "python",
   "nbconvert_exporter": "python",
   "pygments_lexer": "ipython3",
   "version": "3.11.4"
  }
 },
 "nbformat": 4,
 "nbformat_minor": 2
}
